{
  "nbformat": 4,
  "nbformat_minor": 0,
  "metadata": {
    "colab": {
      "provenance": [],
      "authorship_tag": "ABX9TyM5zajbJ8UytN3nv2qGMUaq",
      "include_colab_link": true
    },
    "kernelspec": {
      "name": "python3",
      "display_name": "Python 3"
    },
    "language_info": {
      "name": "python"
    }
  },
  "cells": [
    {
      "cell_type": "markdown",
      "metadata": {
        "id": "view-in-github",
        "colab_type": "text"
      },
      "source": [
        "<a href=\"https://colab.research.google.com/github/omkar3299/python-Analyst/blob/main/Assignment4.ipynb\" target=\"_parent\"><img src=\"https://colab.research.google.com/assets/colab-badge.svg\" alt=\"Open In Colab\"/></a>"
      ]
    },
    {
      "cell_type": "code",
      "execution_count": 2,
      "metadata": {
        "colab": {
          "base_uri": "https://localhost:8080/"
        },
        "id": "hUA2_Hk0E0kN",
        "outputId": "f5bed886-a93b-4dc7-ed2c-09e4d327b524"
      },
      "outputs": [
        {
          "output_type": "stream",
          "name": "stdout",
          "text": [
            "1\n",
            "2\n",
            "3\n",
            "4\n",
            "5\n"
          ]
        }
      ],
      "source": [
        "#Using while loop print 1 to 5 number\n",
        "num = 1\n",
        "while num <= 5:\n",
        "  print(num)\n",
        "  num= num +1"
      ]
    },
    {
      "cell_type": "code",
      "source": [
        "# sum of 1 to 10 number\n",
        "num = 1\n",
        "sum = 0\n",
        "while num <= 10:\n",
        "  sum += num\n",
        "  num += 1\n",
        "print(\"Sum of 1 to 10 Numbers= \", sum)\n",
        "\n"
      ],
      "metadata": {
        "colab": {
          "base_uri": "https://localhost:8080/"
        },
        "id": "NtIVVzCEFEuI",
        "outputId": "ef0d024c-1078-4e3c-c9f3-72c3608a23f9"
      },
      "execution_count": 6,
      "outputs": [
        {
          "output_type": "stream",
          "name": "stdout",
          "text": [
            "Sum of 1 to 10 Numbers=  55\n"
          ]
        }
      ]
    },
    {
      "cell_type": "code",
      "source": [
        "def factorial(n):\n",
        "  result = 1\n",
        "  for i in range(1, n+1):\n",
        "    result *= i\n",
        "  return result\n",
        "num = int(input(\"Enter the Number: \"))\n",
        "print(\"Factorial Number is:-\", factorial(num)) #call factorial function\n",
        "\n",
        "\n"
      ],
      "metadata": {
        "colab": {
          "base_uri": "https://localhost:8080/"
        },
        "id": "buE15AjQHVa6",
        "outputId": "71143fde-898a-48ae-e357-28c90cd7028a"
      },
      "execution_count": 17,
      "outputs": [
        {
          "output_type": "stream",
          "name": "stdout",
          "text": [
            "Enter the Number: 5\n",
            "Factorial Number is:- 120\n"
          ]
        }
      ]
    },
    {
      "cell_type": "code",
      "source": [
        "def count_vowels(text):\n",
        "  count = 0\n",
        "  vowels = 'aeiouAEIOU'\n",
        "  for char in text:\n",
        "    if char in vowels:\n",
        "      count +=1\n",
        "  return count\n",
        "text = input(\"Enter the string: \")\n",
        "print(\"Numbers of Vowels in String: \",count_vowels(text))"
      ],
      "metadata": {
        "colab": {
          "base_uri": "https://localhost:8080/"
        },
        "id": "GF2mybztJbeH",
        "outputId": "7172d457-817a-4ff6-99fa-26e861679008"
      },
      "execution_count": 25,
      "outputs": [
        {
          "output_type": "stream",
          "name": "stdout",
          "text": [
            "Enter the string: Hello world\n",
            "Numbers of Vowels in String:  3\n"
          ]
        }
      ]
    },
    {
      "cell_type": "code",
      "source": [
        "num_rows = 10\n",
        "\n",
        "\n",
        "for i in range(num_rows):\n",
        "\n",
        "    for j in range(i + 1):\n",
        "        print('*', end=' ')\n",
        "    print()"
      ],
      "metadata": {
        "colab": {
          "base_uri": "https://localhost:8080/"
        },
        "id": "uGBKA-rsNYHL",
        "outputId": "770e3925-3612-489c-8591-388ce58aaf47"
      },
      "execution_count": 26,
      "outputs": [
        {
          "output_type": "stream",
          "name": "stdout",
          "text": [
            "* \n",
            "* * \n",
            "* * * \n",
            "* * * * \n",
            "* * * * * \n",
            "* * * * * * \n",
            "* * * * * * * \n",
            "* * * * * * * * \n",
            "* * * * * * * * * \n",
            "* * * * * * * * * * \n"
          ]
        }
      ]
    },
    {
      "cell_type": "code",
      "source": [
        "x = 1\n",
        "y = 10\n",
        "for i in range(x,y+1):\n",
        "  for j in range(x,y+1):\n",
        "    result = i * j\n",
        "    print(\"i * j = result\")\n",
        "  print()\n"
      ],
      "metadata": {
        "id": "fgY-0Kg-QZk9"
      },
      "execution_count": null,
      "outputs": []
    },
    {
      "cell_type": "code",
      "source": [],
      "metadata": {
        "id": "j803Vx1uRcC3"
      },
      "execution_count": null,
      "outputs": []
    }
  ]
}