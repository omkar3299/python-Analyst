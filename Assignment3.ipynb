{
  "nbformat": 4,
  "nbformat_minor": 0,
  "metadata": {
    "colab": {
      "provenance": [],
      "authorship_tag": "ABX9TyNSWv5z4G1xIEMrLLnMcA0n",
      "include_colab_link": true
    },
    "kernelspec": {
      "name": "python3",
      "display_name": "Python 3"
    },
    "language_info": {
      "name": "python"
    }
  },
  "cells": [
    {
      "cell_type": "markdown",
      "metadata": {
        "id": "view-in-github",
        "colab_type": "text"
      },
      "source": [
        "<a href=\"https://colab.research.google.com/github/omkar3299/python-Analyst/blob/main/Assignment3.ipynb\" target=\"_parent\"><img src=\"https://colab.research.google.com/assets/colab-badge.svg\" alt=\"Open In Colab\"/></a>"
      ]
    },
    {
      "cell_type": "code",
      "execution_count": 1,
      "metadata": {
        "id": "c1ZBQUNS7T1N"
      },
      "outputs": [],
      "source": [
        "#python keywords (if, elif ,else, for, while, def, import),etc.\n",
        "#if,elif,else are used to decision making logic in program , (foe,while) used for looping, & def is used to define the code/program logic"
      ]
    },
    {
      "cell_type": "code",
      "source": [
        "#example\n",
        "x = 10\n",
        "if x > 5:\n",
        "    print(\"x is greater than 5\")\n",
        "elif x == 5:\n",
        "    print(\"x is equal to 5\")\n",
        "else:\n",
        "    print(\"x is less than 5\")"
      ],
      "metadata": {
        "colab": {
          "base_uri": "https://localhost:8080/"
        },
        "id": "KD8RcFCi7eiH",
        "outputId": "54dffbe1-0eaf-4ec6-8970-89c7f642dcea"
      },
      "execution_count": 4,
      "outputs": [
        {
          "output_type": "stream",
          "name": "stdout",
          "text": [
            "x is greater than 5\n"
          ]
        }
      ]
    },
    {
      "cell_type": "code",
      "source": [
        "for i in range(5):\n",
        "    print(i)\n",
        "\n",
        "count = 0\n",
        "while count < 5:\n",
        "    print(count)\n",
        "    count += 1"
      ],
      "metadata": {
        "colab": {
          "base_uri": "https://localhost:8080/"
        },
        "id": "ALwYRK6Q7qBy",
        "outputId": "2f6bbee3-28e1-4817-dff7-6cb718fbe720"
      },
      "execution_count": 5,
      "outputs": [
        {
          "output_type": "stream",
          "name": "stdout",
          "text": [
            "0\n",
            "1\n",
            "2\n",
            "3\n",
            "4\n",
            "0\n",
            "1\n",
            "2\n",
            "3\n",
            "4\n"
          ]
        }
      ]
    },
    {
      "cell_type": "code",
      "source": [
        "def add(x, y):\n",
        "    return x + y\n",
        "\n",
        "result = add(3, 5)\n",
        "print(result)"
      ],
      "metadata": {
        "colab": {
          "base_uri": "https://localhost:8080/"
        },
        "id": "z9gWkzoj98XA",
        "outputId": "afca6bdb-1a7d-4d4f-cdca-81260e721ec4"
      },
      "execution_count": 6,
      "outputs": [
        {
          "output_type": "stream",
          "name": "stdout",
          "text": [
            "8\n"
          ]
        }
      ]
    },
    {
      "cell_type": "code",
      "source": [
        "# Valid identifiers\n",
        "variable_name = 10\n",
        "my_variable = \"Hello\"\n",
        "myVariable = 3.14\n",
        "_my_variable = True\n",
        "MY_VARIABLE = \"Python\"\n",
        "\n",
        "# Invalid identifiers\n",
        "2variable = \"Invalid\"  # Identifier cannot start with a digit\n",
        "variable-name = \"Invalid\"  # Identifier cannot contain hyphens\n",
        "variable$name = \"Invalid\"  # Identifier cannot contain special characters\n",
        "class = \"Invalid\"  # Identifier cannot be a keyword or reserved word"
      ],
      "metadata": {
        "id": "9_lx0rag-NSv"
      },
      "execution_count": null,
      "outputs": []
    },
    {
      "cell_type": "code",
      "source": [
        "#python Comments\n",
        "# this is single line comment\n",
        "\"\"\"\n",
        "This is a multi-line comment.\n",
        "It spans multiple lines and is enclosed within triple quotes.\n",
        "Multi-line comments\n",
        "used to document functions, classes, and modules.\n",
        "\"\"\"\n",
        "#example with comment\n",
        "def calculate_area(radius):\n",
        "    \"\"\"\n",
        "    Calculate the area of a circle given its radius.\n",
        "\n",
        "    use by default pi value = 3.1415\n",
        "\n",
        "    The area of the circle.\n",
        "    \"\"\"\n",
        "    pi = 3.14159  # Approximate value of pi\n",
        "    area = pi * radius**2  # Calculate area using the formula A = πr^2\n",
        "    return area\n",
        "\n",
        "# calculate the area of a circle with radius 5\n",
        "radius = 5\n",
        "area = calculate_area(radius)\n",
        "print(\"Area of the circle:\", area)"
      ],
      "metadata": {
        "colab": {
          "base_uri": "https://localhost:8080/"
        },
        "id": "4lXGjbvB_LBd",
        "outputId": "2ce2e43b-9a83-45fe-85e1-f1699bdf2169"
      },
      "execution_count": 8,
      "outputs": [
        {
          "output_type": "stream",
          "name": "stdout",
          "text": [
            "Area of the circle: 78.53975\n"
          ]
        }
      ]
    },
    {
      "cell_type": "code",
      "source": [
        "# Incorrect indentation\n",
        "x = 5\n",
        "if x > 0:\n",
        "print(\"x is positive\")  # Incorrect indentation will result in a syntax error\n",
        " #logic is correct but incorrect indentation that why code does not run it show error\n",
        "\n",
        "\n",
        "# Correct indentation\n",
        "x = 5\n",
        "if x > 0:\n",
        "    print(\"x is positive\")  # Correct indentation defines the block within the if statement"
      ],
      "metadata": {
        "id": "Au-0N-O7A9IF"
      },
      "execution_count": null,
      "outputs": []
    },
    {
      "cell_type": "code",
      "source": [
        "x = 10 , y = 5\n",
        "result = x + y  # Addition expression\n",
        "is_greater = x > y  # Logical expression\n",
        "\n",
        "x = 10 # Assignment statement\n",
        "\n",
        "# if  statement\n",
        "if x > 0:\n",
        "  print(\"x is true\")"
      ],
      "metadata": {
        "id": "rJwc7stUBkdh"
      },
      "execution_count": null,
      "outputs": []
    }
  ]
}