{
  "nbformat": 4,
  "nbformat_minor": 0,
  "metadata": {
    "colab": {
      "provenance": [],
      "authorship_tag": "ABX9TyO2fEOqg9bMO17P2U6RhONj",
      "include_colab_link": true
    },
    "kernelspec": {
      "name": "python3",
      "display_name": "Python 3"
    },
    "language_info": {
      "name": "python"
    }
  },
  "cells": [
    {
      "cell_type": "markdown",
      "metadata": {
        "id": "view-in-github",
        "colab_type": "text"
      },
      "source": [
        "<a href=\"https://colab.research.google.com/github/omkar3299/python-Analyst/blob/main/Assigenment5.ipynb\" target=\"_parent\"><img src=\"https://colab.research.google.com/assets/colab-badge.svg\" alt=\"Open In Colab\"/></a>"
      ]
    },
    {
      "cell_type": "code",
      "execution_count": 1,
      "metadata": {
        "colab": {
          "base_uri": "https://localhost:8080/"
        },
        "id": "-8xNwuclrK-j",
        "outputId": "a468b891-b8e0-4812-fad4-ce9518853a90"
      },
      "outputs": [
        {
          "output_type": "stream",
          "name": "stdout",
          "text": [
            "1\n",
            "2\n",
            "3\n",
            "4\n"
          ]
        }
      ],
      "source": [
        "#using break statement to stop print number\n",
        "number =[1,2,3,4,5,6,7,8,9,10]\n",
        "for number in number:\n",
        "  if(number==5):\n",
        "    break\n",
        "  print(number)"
      ]
    },
    {
      "cell_type": "code",
      "source": [
        "my_list = [1,2,3,4,'omkar',12.45,3+5j]\n",
        "for number in my_list:\n",
        "  if(number==12.45):\n",
        "    break\n",
        "  print(number, end=\" \")\n"
      ],
      "metadata": {
        "colab": {
          "base_uri": "https://localhost:8080/"
        },
        "id": "1Z6mhwgEsCNs",
        "outputId": "d8f0fa29-06a5-4de0-fe80-d54d808fa1b1"
      },
      "execution_count": 4,
      "outputs": [
        {
          "output_type": "stream",
          "name": "stdout",
          "text": [
            "1 2 3 4 omkar "
          ]
        }
      ]
    },
    {
      "cell_type": "code",
      "source": [
        "#skip printing the even numbers\n",
        "for i in range(10):\n",
        "  if i % 2 == 0:\n",
        "    continue\n",
        "  print(i)\n"
      ],
      "metadata": {
        "colab": {
          "base_uri": "https://localhost:8080/"
        },
        "id": "Hfe_FSZKvetq",
        "outputId": "dc32a20a-9d7e-4efc-f56b-11e66e06dfc0"
      },
      "execution_count": 5,
      "outputs": [
        {
          "output_type": "stream",
          "name": "stdout",
          "text": [
            "1\n",
            "3\n",
            "5\n",
            "7\n",
            "9\n"
          ]
        }
      ]
    },
    {
      "cell_type": "code",
      "source": [
        "#printing 0 to 9 numbers\n",
        "for i in range(10):\n",
        "  print(i, end=\" \")"
      ],
      "metadata": {
        "colab": {
          "base_uri": "https://localhost:8080/"
        },
        "id": "JRFHuZLLwu-G",
        "outputId": "473dbd1e-9970-4910-83d1-db3c38b5157a"
      },
      "execution_count": 7,
      "outputs": [
        {
          "output_type": "stream",
          "name": "stdout",
          "text": [
            "0 1 2 3 4 5 6 7 8 9 "
          ]
        }
      ]
    },
    {
      "cell_type": "code",
      "source": [
        "def odd_numbers(n):\n",
        "  while n>0:\n",
        "    if n % 2 !=0:\n",
        "      print(n)\n",
        "    n -=1\n",
        "odd_numbers(10)\n"
      ],
      "metadata": {
        "colab": {
          "base_uri": "https://localhost:8080/"
        },
        "id": "V9dRWMWyxL6E",
        "outputId": "6f19bced-b726-455b-f1ba-70af60770dfa"
      },
      "execution_count": 16,
      "outputs": [
        {
          "output_type": "stream",
          "name": "stdout",
          "text": [
            "9\n",
            "7\n",
            "5\n",
            "3\n",
            "1\n"
          ]
        }
      ]
    },
    {
      "cell_type": "code",
      "source": [],
      "metadata": {
        "id": "JeLA3uj0yxL7"
      },
      "execution_count": null,
      "outputs": []
    }
  ]
}