{
  "nbformat": 4,
  "nbformat_minor": 0,
  "metadata": {
    "colab": {
      "provenance": [],
      "authorship_tag": "ABX9TyM6jgjjjyF4vnvJJGVC9bT4",
      "include_colab_link": true
    },
    "kernelspec": {
      "name": "python3",
      "display_name": "Python 3"
    },
    "language_info": {
      "name": "python"
    }
  },
  "cells": [
    {
      "cell_type": "markdown",
      "metadata": {
        "id": "view-in-github",
        "colab_type": "text"
      },
      "source": [
        "<a href=\"https://colab.research.google.com/github/omkar3299/python-Analyst/blob/main/Assigenment2.ipynb\" target=\"_parent\"><img src=\"https://colab.research.google.com/assets/colab-badge.svg\" alt=\"Open In Colab\"/></a>"
      ]
    },
    {
      "cell_type": "code",
      "execution_count": 1,
      "metadata": {
        "id": "BVWTpzBfdydw"
      },
      "outputs": [],
      "source": [
        "a = 5\n",
        "b = 3\n",
        "Sum = (a + b)"
      ]
    },
    {
      "cell_type": "code",
      "source": [
        "print(Sum)"
      ],
      "metadata": {
        "colab": {
          "base_uri": "https://localhost:8080/"
        },
        "id": "7f7RtGdhd_3C",
        "outputId": "c0052db4-d35d-4d6e-8394-f2f1f417d30e"
      },
      "execution_count": 2,
      "outputs": [
        {
          "output_type": "stream",
          "name": "stdout",
          "text": [
            "8\n"
          ]
        }
      ]
    },
    {
      "cell_type": "code",
      "source": [
        "Difference = (a - b)\n",
        "print(Difference)"
      ],
      "metadata": {
        "colab": {
          "base_uri": "https://localhost:8080/"
        },
        "id": "oSpHo0gPeDCk",
        "outputId": "4ac8637b-28a6-4916-c2bc-d81b4d40d22c"
      },
      "execution_count": 3,
      "outputs": [
        {
          "output_type": "stream",
          "name": "stdout",
          "text": [
            "2\n"
          ]
        }
      ]
    },
    {
      "cell_type": "code",
      "source": [
        "Product = (a * b)\n",
        "print(Product)\n"
      ],
      "metadata": {
        "colab": {
          "base_uri": "https://localhost:8080/"
        },
        "id": "0IDS0X3NeHJQ",
        "outputId": "e5178d04-7825-4ada-804a-ea02045473df"
      },
      "execution_count": 4,
      "outputs": [
        {
          "output_type": "stream",
          "name": "stdout",
          "text": [
            "15\n"
          ]
        }
      ]
    },
    {
      "cell_type": "code",
      "source": [
        "Quotient = a / b\n",
        "print(Quotient)"
      ],
      "metadata": {
        "colab": {
          "base_uri": "https://localhost:8080/"
        },
        "id": "4dFxtqaWeNf9",
        "outputId": "b0dcc683-ec48-4728-da9a-c905a1f9c64c"
      },
      "execution_count": 5,
      "outputs": [
        {
          "output_type": "stream",
          "name": "stdout",
          "text": [
            "1.6666666666666667\n"
          ]
        }
      ]
    },
    {
      "cell_type": "code",
      "source": [
        "# assignment operations on a varibles\n",
        "x = 10\n"
      ],
      "metadata": {
        "id": "8YoAmhEdeQa7"
      },
      "execution_count": 6,
      "outputs": []
    },
    {
      "cell_type": "code",
      "source": [
        "x += 5\n",
        "print(\"Addition: \", x)"
      ],
      "metadata": {
        "colab": {
          "base_uri": "https://localhost:8080/"
        },
        "id": "AjVJImGIeZLt",
        "outputId": "1ed465f8-1e39-4ed2-84d4-009e554e1a57"
      },
      "execution_count": 7,
      "outputs": [
        {
          "output_type": "stream",
          "name": "stdout",
          "text": [
            "Addition:  15\n"
          ]
        }
      ]
    },
    {
      "cell_type": "code",
      "source": [
        "x -= 5\n",
        "print(\"Subtraction: \", x)"
      ],
      "metadata": {
        "colab": {
          "base_uri": "https://localhost:8080/"
        },
        "id": "SZWK1HWjeZmE",
        "outputId": "f3075f6c-2d15-4b01-9890-e79b38a7907a"
      },
      "execution_count": 8,
      "outputs": [
        {
          "output_type": "stream",
          "name": "stdout",
          "text": [
            "Subtraction:  10\n"
          ]
        }
      ]
    },
    {
      "cell_type": "code",
      "source": [
        "x *= 5\n",
        "print(\"Multification: \", x)"
      ],
      "metadata": {
        "colab": {
          "base_uri": "https://localhost:8080/"
        },
        "id": "e_InlWnwec-2",
        "outputId": "fad6b243-d227-4da3-8adb-dfec4a6c8b4c"
      },
      "execution_count": 9,
      "outputs": [
        {
          "output_type": "stream",
          "name": "stdout",
          "text": [
            "Multification:  50\n"
          ]
        }
      ]
    },
    {
      "cell_type": "code",
      "source": [
        "x /= 3\n",
        "print(\"Division: \", x)"
      ],
      "metadata": {
        "colab": {
          "base_uri": "https://localhost:8080/"
        },
        "id": "uEP4L4J1egOc",
        "outputId": "05c2dfe7-3541-49c5-cd27-8ff8d979685b"
      },
      "execution_count": 10,
      "outputs": [
        {
          "output_type": "stream",
          "name": "stdout",
          "text": [
            "Division:  16.666666666666668\n"
          ]
        }
      ]
    },
    {
      "cell_type": "code",
      "source": [
        "z = 50\n",
        "z %= 5\n",
        "print(\"Module: \", z)"
      ],
      "metadata": {
        "colab": {
          "base_uri": "https://localhost:8080/"
        },
        "id": "DjLm6kxVei2K",
        "outputId": "dd7c73ff-25ee-48d3-e152-45c54effd3f4"
      },
      "execution_count": 11,
      "outputs": [
        {
          "output_type": "stream",
          "name": "stdout",
          "text": [
            "Module:  0\n"
          ]
        }
      ]
    },
    {
      "cell_type": "code",
      "source": [
        "A = 40"
      ],
      "metadata": {
        "id": "ylceVRJuem1P"
      },
      "execution_count": 12,
      "outputs": []
    },
    {
      "cell_type": "code",
      "source": [
        "A //= 4\n",
        "print(\"Floor Division: \", A)"
      ],
      "metadata": {
        "colab": {
          "base_uri": "https://localhost:8080/"
        },
        "id": "zF--_h-5erq8",
        "outputId": "8045ebba-5cb0-45ef-f0b4-76e2b673cfbc"
      },
      "execution_count": 13,
      "outputs": [
        {
          "output_type": "stream",
          "name": "stdout",
          "text": [
            "Floor Division:  10\n"
          ]
        }
      ]
    },
    {
      "cell_type": "code",
      "source": [
        "#compare\n"
      ],
      "metadata": {
        "id": "j8wgID2BetYg"
      },
      "execution_count": 14,
      "outputs": []
    },
    {
      "cell_type": "code",
      "source": [
        "num1 = int (input(\"Enter your Number: \"))\n",
        "\n",
        "if num1 > 3:\n",
        "        print(\"num1 is Greater\")\n",
        "elif num1 < 3:\n",
        "        print(\"num1 is small number\")\n",
        "else:\n",
        "        print(\"num2\")"
      ],
      "metadata": {
        "colab": {
          "base_uri": "https://localhost:8080/"
        },
        "id": "_qWApylhex96",
        "outputId": "13bc16b3-9b4b-4338-bfe5-a7936f8bff80"
      },
      "execution_count": 15,
      "outputs": [
        {
          "output_type": "stream",
          "name": "stdout",
          "text": [
            "Enter your Number: 5\n",
            "num1 is Greater\n"
          ]
        }
      ]
    },
    {
      "cell_type": "code",
      "source": [
        "#Logical operators\n",
        "#AND / OR"
      ],
      "metadata": {
        "id": "-eSnP1-Pe0gE"
      },
      "execution_count": 16,
      "outputs": []
    },
    {
      "cell_type": "code",
      "source": [
        "True and False"
      ],
      "metadata": {
        "colab": {
          "base_uri": "https://localhost:8080/"
        },
        "id": "cBatpXCZe6cw",
        "outputId": "433f3a7a-9b6a-42d1-8d44-50ba29f2a981"
      },
      "execution_count": 17,
      "outputs": [
        {
          "output_type": "execute_result",
          "data": {
            "text/plain": [
              "False"
            ]
          },
          "metadata": {},
          "execution_count": 17
        }
      ]
    },
    {
      "cell_type": "code",
      "source": [
        "True and True # And Operator"
      ],
      "metadata": {
        "colab": {
          "base_uri": "https://localhost:8080/"
        },
        "id": "s7WjynOke8gm",
        "outputId": "eb57cddf-2943-4621-df78-d47cec88a86b"
      },
      "execution_count": 18,
      "outputs": [
        {
          "output_type": "execute_result",
          "data": {
            "text/plain": [
              "True"
            ]
          },
          "metadata": {},
          "execution_count": 18
        }
      ]
    },
    {
      "cell_type": "code",
      "source": [
        "#OR opertor"
      ],
      "metadata": {
        "id": "xnbpfn26e_FY"
      },
      "execution_count": 19,
      "outputs": []
    },
    {
      "cell_type": "code",
      "source": [
        "True or True"
      ],
      "metadata": {
        "colab": {
          "base_uri": "https://localhost:8080/"
        },
        "id": "O5K8XKsgfCDW",
        "outputId": "6b6b7fa3-16a5-42d1-a266-14e4b9fba9f2"
      },
      "execution_count": 20,
      "outputs": [
        {
          "output_type": "execute_result",
          "data": {
            "text/plain": [
              "True"
            ]
          },
          "metadata": {},
          "execution_count": 20
        }
      ]
    },
    {
      "cell_type": "code",
      "source": [
        "False or False"
      ],
      "metadata": {
        "colab": {
          "base_uri": "https://localhost:8080/"
        },
        "id": "GKnbVdJSfDnX",
        "outputId": "97796aa2-8175-4ba2-96b3-35fb8813495f"
      },
      "execution_count": 21,
      "outputs": [
        {
          "output_type": "execute_result",
          "data": {
            "text/plain": [
              "False"
            ]
          },
          "metadata": {},
          "execution_count": 21
        }
      ]
    },
    {
      "cell_type": "code",
      "source": [
        "a = 5\n",
        "b = 5\n",
        "print(a==b) #identity of Variables"
      ],
      "metadata": {
        "colab": {
          "base_uri": "https://localhost:8080/"
        },
        "id": "zepJ9zGWfGN1",
        "outputId": "e6eaf2d8-6d73-4388-d7bd-ac3831854121"
      },
      "execution_count": 22,
      "outputs": [
        {
          "output_type": "stream",
          "name": "stdout",
          "text": [
            "True\n"
          ]
        }
      ]
    },
    {
      "cell_type": "code",
      "source": [
        "#bitwise operator\n",
        "15 & 4"
      ],
      "metadata": {
        "colab": {
          "base_uri": "https://localhost:8080/"
        },
        "id": "hOVY7UBnfJPW",
        "outputId": "256010f2-e7d3-49a1-ed72-bbfedd5d2117"
      },
      "execution_count": 23,
      "outputs": [
        {
          "output_type": "execute_result",
          "data": {
            "text/plain": [
              "4"
            ]
          },
          "metadata": {},
          "execution_count": 23
        }
      ]
    },
    {
      "cell_type": "code",
      "source": [
        "bin(15)"
      ],
      "metadata": {
        "colab": {
          "base_uri": "https://localhost:8080/",
          "height": 35
        },
        "id": "eo5fEuu1fOUw",
        "outputId": "aaa8a28b-572e-4674-9d50-3b82d321d5e8"
      },
      "execution_count": 24,
      "outputs": [
        {
          "output_type": "execute_result",
          "data": {
            "text/plain": [
              "'0b1111'"
            ],
            "application/vnd.google.colaboratory.intrinsic+json": {
              "type": "string"
            }
          },
          "metadata": {},
          "execution_count": 24
        }
      ]
    },
    {
      "cell_type": "code",
      "source": [
        "bin(4)"
      ],
      "metadata": {
        "colab": {
          "base_uri": "https://localhost:8080/",
          "height": 35
        },
        "id": "6bqKKig8fP_w",
        "outputId": "917cb872-a2b7-4a5e-b810-4519fddbb9b8"
      },
      "execution_count": 25,
      "outputs": [
        {
          "output_type": "execute_result",
          "data": {
            "text/plain": [
              "'0b100'"
            ],
            "application/vnd.google.colaboratory.intrinsic+json": {
              "type": "string"
            }
          },
          "metadata": {},
          "execution_count": 25
        }
      ]
    },
    {
      "cell_type": "code",
      "source": [],
      "metadata": {
        "id": "cLqP_0NgfRfS"
      },
      "execution_count": null,
      "outputs": []
    }
  ]
}